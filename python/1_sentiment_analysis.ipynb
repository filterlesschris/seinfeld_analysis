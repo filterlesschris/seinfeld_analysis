{
 "cells": [
  {
   "cell_type": "code",
   "execution_count": null,
   "metadata": {
    "collapsed": true
   },
   "outputs": [],
   "source": [
    "# Import dependencies\n",
    "import pandas as pd\n",
    "import numpy as np\n",
    "from vaderSentiment.vaderSentiment import SentimentIntensityAnalyzer\n",
    "analyzer = SentimentIntensityAnalyzer()"
   ]
  },
  {
   "cell_type": "code",
   "execution_count": null,
   "metadata": {
    "collapsed": true
   },
   "outputs": [],
   "source": [
    "# Read in the Scripts CSV file\n",
    "scripts_df = pd.read_csv('../rawData/scripts.csv')\n",
    "#scripts_df.head()"
   ]
  },
  {
   "cell_type": "code",
   "execution_count": null,
   "metadata": {
    "collapsed": true
   },
   "outputs": [],
   "source": [
    "# Define list of main characters\n",
    "primaryChars = [\"JERRY\", \"GEORGE\", \"KRAMER\", \"ELAINE\"]"
   ]
  },
  {
   "cell_type": "code",
   "execution_count": null,
   "metadata": {
    "collapsed": true
   },
   "outputs": [],
   "source": [
    "# Setting the cut-off for our secondary characters at 150 lines of dialogue\n",
    "secondaryChars = [\"NEWMAN\", \"MORTY\", \"HELEN\", \"FRANK\",\"SUSAN\", \"ESTELLE\", \"PUDDY\"]"
   ]
  },
  {
   "cell_type": "code",
   "execution_count": null,
   "metadata": {},
   "outputs": [],
   "source": [
    "# Create blank coolumns for positive, negative and compound sentiment episodes\n",
    "scripts_df[\"PosSent\"] = np.repeat(0, scripts_df.shape[0])\n",
    "scripts_df[\"NegSent\"] = np.repeat(0, scripts_df.shape[0])\n",
    "scripts_df[\"CompSent\"] = np.repeat(0, scripts_df.shape[0])\n",
    "\n",
    "scripts_df.head()"
   ]
  },
  {
   "cell_type": "code",
   "execution_count": null,
   "metadata": {
    "collapsed": true
   },
   "outputs": [],
   "source": [
    "# Create lists that will later be added to data frame\n",
    "PosSent = []\n",
    "NegSent = []\n",
    "CompSent = []"
   ]
  },
  {
   "cell_type": "code",
   "execution_count": null,
   "metadata": {
    "scrolled": true
   },
   "outputs": [],
   "source": [
    "# Loop to re-name Character column and add Sentiment Score\n",
    "\n",
    "for i in range(scripts_df.shape[0]):\n",
    "\n",
    "    #########################\n",
    "    # Re-assign character names into \"OTHER\" or \"SECONDARY\" for non-main characters\n",
    "    #########################\n",
    "    \n",
    "    char = scripts_df[\"Character\"][i]\n",
    "\n",
    "    if (char not in primaryChars) & (char not in secondaryChars):\n",
    "        scripts_df[\"Character\"][i] = \"OTHER\"\n",
    "\n",
    "    elif char not in primaryChars:\n",
    "        scripts_df[\"Character\"][i] = \"SECONDARY\"\n",
    "\n",
    "        \n",
    "    #########################\n",
    "    # Sentiment Analysis\n",
    "    #########################\n",
    "\n",
    "    # Assign the current line of text to variable 'line'\n",
    "    line = str(scripts_df[\"Dialogue\"][i]).lower()\n",
    "\n",
    "    try:\n",
    "        # Setting each line of dialogue as a string, otherwise numbers give us errors\n",
    "        pos = analyzer.polarity_scores(line)[\"pos\"]\n",
    "        neg = analyzer.polarity_scores(line)[\"neg\"]\n",
    "        comp = analyzer.polarity_scores(line)[\"compound\"]\n",
    "    \n",
    "    except:\n",
    "        # Also using try / except to limit that\n",
    "        pos = None\n",
    "        neg = None\n",
    "        comp = None\n",
    "\n",
    "    PosSent.append(pos)\n",
    "    NegSent.append(neg)\n",
    "    CompSent.append(comp)\n",
    "        \n",
    "    #########################\n",
    "    # Print notifications to make sure the code is running\n",
    "    #########################\n",
    "\n",
    "    if i % 10000 == 0:\n",
    "        perc_complete = round(i / scripts_df.shape[0] * 100, 0)\n",
    "        print(\"Percent Complete: \" + str(perc_complete) + \"%\")\n",
    "    \n",
    "    if i == (scripts_df.shape[0] - 1):\n",
    "        print(\"-----------------------------------\")\n",
    "        print(\"Loop Complete!\")"
   ]
  },
  {
   "cell_type": "code",
   "execution_count": null,
   "metadata": {},
   "outputs": [],
   "source": [
    "#Add PosSent, NegSent, andCompSent as columns in dataframe\n",
    "scripts_df[\"PosSent\"] = PosSent\n",
    "scripts_df[\"NegSent\"] = NegSent\n",
    "scripts_df[\"CompSent\"] = CompSent\n",
    "\n",
    "scripts_df.head()"
   ]
  },
  {
   "cell_type": "code",
   "execution_count": null,
   "metadata": {
    "collapsed": true
   },
   "outputs": [],
   "source": [
    "# Save scripts_df to a new CSV file, so that we don't have to do the loop again\n",
    "scripts_df.to_csv('../outputData/cleaned_scripts.csv')"
   ]
  }
 ],
 "metadata": {
  "kernelspec": {
   "display_name": "Python 3",
   "language": "python",
   "name": "python3"
  },
  "language_info": {
   "codemirror_mode": {
    "name": "ipython",
    "version": 3
   },
   "file_extension": ".py",
   "mimetype": "text/x-python",
   "name": "python",
   "nbconvert_exporter": "python",
   "pygments_lexer": "ipython3",
   "version": "3.6.3"
  }
 },
 "nbformat": 4,
 "nbformat_minor": 2
}
