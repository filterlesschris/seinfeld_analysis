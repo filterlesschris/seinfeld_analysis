{
 "cells": [
  {
   "cell_type": "code",
   "execution_count": 1,
   "metadata": {
    "collapsed": true
   },
   "outputs": [],
   "source": [
    "# Import dependencies\n",
    "import pandas as pd\n",
    "import numpy as np\n",
    "from vaderSentiment.vaderSentiment import SentimentIntensityAnalyzer\n",
    "analyzer = SentimentIntensityAnalyzer()"
   ]
  },
  {
   "cell_type": "code",
   "execution_count": 2,
   "metadata": {},
   "outputs": [],
   "source": [
    "# Read in the Scripts CSV file\n",
    "scripts_df = pd.read_csv('rawData/scripts.csv')\n",
    "#scripts_df.head()"
   ]
  },
  {
   "cell_type": "code",
   "execution_count": 3,
   "metadata": {},
   "outputs": [
    {
     "data": {
      "text/plain": [
       "(54616, 6)"
      ]
     },
     "execution_count": 3,
     "metadata": {},
     "output_type": "execute_result"
    }
   ],
   "source": [
    "# View dimensions of dataset\n",
    "scripts_df.shape"
   ]
  },
  {
   "cell_type": "code",
   "execution_count": 4,
   "metadata": {
    "collapsed": true
   },
   "outputs": [],
   "source": [
    "# Define list of main characters\n",
    "primaryChars = [\"JERRY\", \"GEORGE\", \"KRAMER\", \"ELAINE\"]"
   ]
  },
  {
   "cell_type": "code",
   "execution_count": 5,
   "metadata": {
    "collapsed": true
   },
   "outputs": [],
   "source": [
    "# Setting the cut-off for our secondary characters at 150 lines of dialogue\n",
    "secondaryChars = [\"NEWMAN\", \"MORTY\", \"HELEN\", \"FRANK\",\"SUSAN\", \"ESTELLE\", \"PUDDY\"]"
   ]
  },
  {
   "cell_type": "code",
   "execution_count": 6,
   "metadata": {},
   "outputs": [
    {
     "data": {
      "text/html": [
       "<div>\n",
       "<style>\n",
       "    .dataframe thead tr:only-child th {\n",
       "        text-align: right;\n",
       "    }\n",
       "\n",
       "    .dataframe thead th {\n",
       "        text-align: left;\n",
       "    }\n",
       "\n",
       "    .dataframe tbody tr th {\n",
       "        vertical-align: top;\n",
       "    }\n",
       "</style>\n",
       "<table border=\"1\" class=\"dataframe\">\n",
       "  <thead>\n",
       "    <tr style=\"text-align: right;\">\n",
       "      <th></th>\n",
       "      <th>Num</th>\n",
       "      <th>Character</th>\n",
       "      <th>Dialogue</th>\n",
       "      <th>EpisodeNo</th>\n",
       "      <th>SEID</th>\n",
       "      <th>Season</th>\n",
       "      <th>Sentiment</th>\n",
       "    </tr>\n",
       "  </thead>\n",
       "  <tbody>\n",
       "    <tr>\n",
       "      <th>0</th>\n",
       "      <td>0</td>\n",
       "      <td>JERRY</td>\n",
       "      <td>Do you know what this is all about? Do you kno...</td>\n",
       "      <td>1</td>\n",
       "      <td>S01E01</td>\n",
       "      <td>1</td>\n",
       "      <td>NaN</td>\n",
       "    </tr>\n",
       "    <tr>\n",
       "      <th>1</th>\n",
       "      <td>1</td>\n",
       "      <td>JERRY</td>\n",
       "      <td>(pointing at Georges shirt) See, to me, that b...</td>\n",
       "      <td>1</td>\n",
       "      <td>S01E01</td>\n",
       "      <td>1</td>\n",
       "      <td>NaN</td>\n",
       "    </tr>\n",
       "    <tr>\n",
       "      <th>2</th>\n",
       "      <td>2</td>\n",
       "      <td>GEORGE</td>\n",
       "      <td>Are you through?</td>\n",
       "      <td>1</td>\n",
       "      <td>S01E01</td>\n",
       "      <td>1</td>\n",
       "      <td>NaN</td>\n",
       "    </tr>\n",
       "    <tr>\n",
       "      <th>3</th>\n",
       "      <td>3</td>\n",
       "      <td>JERRY</td>\n",
       "      <td>You do of course try on, when you buy?</td>\n",
       "      <td>1</td>\n",
       "      <td>S01E01</td>\n",
       "      <td>1</td>\n",
       "      <td>NaN</td>\n",
       "    </tr>\n",
       "    <tr>\n",
       "      <th>4</th>\n",
       "      <td>4</td>\n",
       "      <td>GEORGE</td>\n",
       "      <td>Yes, it was purple, I liked it, I dont actuall...</td>\n",
       "      <td>1</td>\n",
       "      <td>S01E01</td>\n",
       "      <td>1</td>\n",
       "      <td>NaN</td>\n",
       "    </tr>\n",
       "  </tbody>\n",
       "</table>\n",
       "</div>"
      ],
      "text/plain": [
       "   Num Character                                           Dialogue  \\\n",
       "0    0     JERRY  Do you know what this is all about? Do you kno...   \n",
       "1    1     JERRY  (pointing at Georges shirt) See, to me, that b...   \n",
       "2    2    GEORGE                                   Are you through?   \n",
       "3    3     JERRY             You do of course try on, when you buy?   \n",
       "4    4    GEORGE  Yes, it was purple, I liked it, I dont actuall...   \n",
       "\n",
       "   EpisodeNo    SEID  Season  Sentiment  \n",
       "0          1  S01E01       1        NaN  \n",
       "1          1  S01E01       1        NaN  \n",
       "2          1  S01E01       1        NaN  \n",
       "3          1  S01E01       1        NaN  \n",
       "4          1  S01E01       1        NaN  "
      ]
     },
     "execution_count": 6,
     "metadata": {},
     "output_type": "execute_result"
    }
   ],
   "source": [
    "# Add column for Sentiment Score\n",
    "scripts_df = scripts_df.reindex(columns = np.append(scripts_df.columns.values, ['Sentiment']))\n",
    "scripts_df.head()"
   ]
  },
  {
   "cell_type": "code",
   "execution_count": null,
   "metadata": {
    "collapsed": true
   },
   "outputs": [],
   "source": []
  },
  {
   "cell_type": "code",
   "execution_count": null,
   "metadata": {
    "collapsed": true
   },
   "outputs": [],
   "source": []
  },
  {
   "cell_type": "code",
   "execution_count": null,
   "metadata": {
    "scrolled": true
   },
   "outputs": [
    {
     "name": "stderr",
     "output_type": "stream",
     "text": [
      "C:\\Users\\chris\\Anaconda3\\lib\\site-packages\\ipykernel_launcher.py:23: SettingWithCopyWarning: \n",
      "A value is trying to be set on a copy of a slice from a DataFrame\n",
      "\n",
      "See the caveats in the documentation: http://pandas.pydata.org/pandas-docs/stable/indexing.html#indexing-view-versus-copy\n",
      "C:\\Users\\chris\\Anaconda3\\lib\\site-packages\\ipykernel_launcher.py:12: SettingWithCopyWarning: \n",
      "A value is trying to be set on a copy of a slice from a DataFrame\n",
      "\n",
      "See the caveats in the documentation: http://pandas.pydata.org/pandas-docs/stable/indexing.html#indexing-view-versus-copy\n",
      "  if sys.path[0] == '':\n"
     ]
    },
    {
     "name": "stdout",
     "output_type": "stream",
     "text": [
      "Percent Complete: 0.0%\n",
      "Percent Complete: 3.66%\n"
     ]
    }
   ],
   "source": [
    "# Loop to re-name Character column and add Sentiment Score\n",
    "\n",
    "for i in range(scripts_df.shape[0]):\n",
    "\n",
    "    #########################\n",
    "    # Re-assign character names into \"OTHER\" or \"SECONDARY\" for non-main characters\n",
    "    #########################\n",
    "    \n",
    "    char = scripts_df[\"Character\"][i]\n",
    "\n",
    "    if (char not in primaryChars) & (char not in secondaryChars):\n",
    "        scripts_df[\"Character\"][i] = \"OTHER\"\n",
    "\n",
    "    elif char not in primaryChars:\n",
    "        scripts_df[\"Character\"][i] = \"SECONDARY\"\n",
    "\n",
    "\n",
    "    #########################\n",
    "    # Sentiment Analysis\n",
    "    #########################\n",
    "    try:\n",
    "        # Setting each line of dialogue as a string, otherwise numbers give us errors\n",
    "        scripts_df[\"Sentiment\"][i] = analyzer.polarity_scores(str(scripts_df[\"Dialogue\"][i]))[\"compound\"]\n",
    "    \n",
    "    except:\n",
    "        # Also using try / except to limit that\n",
    "        scripts_df[\"Sentiment\"][i] = 0\n",
    "\n",
    "    #########################\n",
    "    # Print notifications to make sure the code is running\n",
    "    #########################\n",
    "    \n",
    "    if i % 2000 == 0:\n",
    "        perc_complete = round(i / scripts_df.shape[0] * 100, 2)\n",
    "        print(\"Percent Complete: \" + str(perc_complete) + \"%\")\n",
    "    \n",
    "    if i == scripts_df.shape[0]:\n",
    "        print(\"-----------------------------------\")\n",
    "        print(\"Loop Complete!\")\n",
    "        "
   ]
  },
  {
   "cell_type": "code",
   "execution_count": null,
   "metadata": {
    "collapsed": true
   },
   "outputs": [],
   "source": []
  },
  {
   "cell_type": "code",
   "execution_count": null,
   "metadata": {
    "collapsed": true
   },
   "outputs": [],
   "source": [
    "# Save scripts_df to a new CSV file, so that we don't have to do the loop again\n",
    "scripts_df.to_csv('cleaned_scripts.csv')"
   ]
  }
 ],
 "metadata": {
  "kernelspec": {
   "display_name": "Python 3",
   "language": "python",
   "name": "python3"
  },
  "language_info": {
   "codemirror_mode": {
    "name": "ipython",
    "version": 3
   },
   "file_extension": ".py",
   "mimetype": "text/x-python",
   "name": "python",
   "nbconvert_exporter": "python",
   "pygments_lexer": "ipython3",
   "version": "3.6.3"
  }
 },
 "nbformat": 4,
 "nbformat_minor": 2
}
